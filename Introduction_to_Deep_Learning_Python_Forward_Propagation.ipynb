{
  "nbformat": 4,
  "nbformat_minor": 0,
  "metadata": {
    "colab": {
      "provenance": [],
      "authorship_tag": "ABX9TyMYGNjQ4h+OCMXJLjJDtAlD",
      "include_colab_link": true
    },
    "kernelspec": {
      "name": "python3",
      "display_name": "Python 3"
    },
    "language_info": {
      "name": "python"
    }
  },
  "cells": [
    {
      "cell_type": "markdown",
      "metadata": {
        "id": "view-in-github",
        "colab_type": "text"
      },
      "source": [
        "<a href=\"https://colab.research.google.com/github/KentToha/Machine-Learning-Notes/blob/main/Introduction_to_Deep_Learning_Python_Forward_Propagation.ipynb\" target=\"_parent\"><img src=\"https://colab.research.google.com/assets/colab-badge.svg\" alt=\"Open In Colab\"/></a>"
      ]
    },
    {
      "cell_type": "markdown",
      "source": [
        "**What is forward propagation?**\n",
        "\n",
        "Forward Propagation is the process of input neural data being transformed through a neural network to an output. This neural network consists of layers where the data is transformed by weighted conections and activation functions."
      ],
      "metadata": {
        "id": "jy-LkVkfqgDh"
      }
    },
    {
      "cell_type": "code",
      "execution_count": null,
      "metadata": {
        "id": "N_I0sR4Qo2UU"
      },
      "outputs": [],
      "source": []
    }
  ]
}